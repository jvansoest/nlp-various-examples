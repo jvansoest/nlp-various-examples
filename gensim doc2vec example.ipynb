{
 "cells": [
  {
   "cell_type": "code",
   "execution_count": null,
   "metadata": {},
   "outputs": [],
   "source": [
    "import json\n",
    "from collections import namedtuple\n",
    "from gensim.models.doc2vec import Doc2Vec, TaggedDocument\n",
    "from nltk.tokenize import word_tokenize\n",
    "\n",
    "causes_effects = json.load(open('cause_effects_fev.json','r'))\n",
    "causes = [item for sublist in causes_effects for item in sublist]\n",
    "causes = [el.get('cause') for el in causes if el.get('cause') is not None and type(el.get('cause')) is str]\n",
    "\n",
    "docs = [TaggedDocument(words=word_tokenize(_d.lower()), tags=[str(i)]) for i, _d in enumerate(causes)]\n",
    "\n",
    "model = Doc2Vec(docs, vector_size = 300, window = 2, min_count = 1, workers = 4)\n",
    "\n",
    "v1 = model.infer_vector([\"rising\",\"sea\", 'levels'])\n",
    "\n",
    "\n",
    "similar_doc = model.docvecs.most_similar([v1])\n",
    "print(similar_doc)\n",
    "for tpl in similar_doc:\n",
    "    print(tpl[1],causes[int(tpl[0])])"
   ]
  }
 ],
 "metadata": {
  "kernelspec": {
   "display_name": "Python 3",
   "language": "python",
   "name": "python3"
  },
  "language_info": {
   "codemirror_mode": {
    "name": "ipython",
    "version": 3
   },
   "file_extension": ".py",
   "mimetype": "text/x-python",
   "name": "python",
   "nbconvert_exporter": "python",
   "pygments_lexer": "ipython3",
   "version": "3.7.3"
  }
 },
 "nbformat": 4,
 "nbformat_minor": 4
}
