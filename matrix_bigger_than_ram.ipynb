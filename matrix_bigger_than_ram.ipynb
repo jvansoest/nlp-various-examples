{
 "cells": [
  {
   "cell_type": "code",
   "execution_count": null,
   "metadata": {},
   "outputs": [],
   "source": [
    "import sys\n",
    "import numpy as np\n",
    "\n",
    "query = 'this is a sentence'\n",
    "\n",
    "model = pickle.load(open('causeModel.sav', 'rb')) # the bag of words model  voc\n",
    "ids = pickle.load(open('cause_id', 'rb')) # list of sentences\n",
    "matrix = np.load('effects.npy', mmap_mode='r') # vectors too big for ram\n",
    "\n",
    "# Optional print size of matrix in ram\n",
    "#print(sys.getsizeof(matrix))\n",
    "\n",
    "v_query = model.transform([query]).toarray()\n",
    "\n",
    "# split the mem mapped array in 10\n",
    "splits = np.array_split(matrix, 10)\n",
    "\n",
    "# for each batch calculate the distances\n",
    "# to reduce ram usage:\n",
    "distances = np.array([])\n",
    "for i in range(len(splits)):\n",
    "    distance_batch = distance.cdist(v_query, splits[i], 'cosine')[0]\n",
    "    distances = np.concatenate((distances, distance_batch))\n",
    "\n",
    "# We need similarities\n",
    "distances = 1-distance"
   ]
  }
 ],
 "metadata": {
  "kernelspec": {
   "display_name": "Python 3",
   "language": "python",
   "name": "python3"
  },
  "language_info": {
   "codemirror_mode": {
    "name": "ipython",
    "version": 3
   },
   "file_extension": ".py",
   "mimetype": "text/x-python",
   "name": "python",
   "nbconvert_exporter": "python",
   "pygments_lexer": "ipython3",
   "version": "3.7.3"
  }
 },
 "nbformat": 4,
 "nbformat_minor": 4
}
