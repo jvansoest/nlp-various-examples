{
 "cells": [
  {
   "cell_type": "code",
   "execution_count": null,
   "metadata": {},
   "outputs": [],
   "source": [
    "import pandas as pd\n",
    "from pprint import pprint\n",
    "\n",
    "m = {1:{'date':'2019-1-20',\n",
    "        'txt':'asdfasfasdf'},\n",
    "     2:{'date':'2019-1-20',\n",
    "        'txt':'asdfasdfasdf'},\n",
    "     3:{'date':'2019-1-20',\n",
    "        'txt':'asdfasfasdf'},\n",
    "     4:{'date':'2019-2-20',\n",
    "        'txt':'asdfasdfasdf'},\n",
    "     5:{'date':'2019-2-20',\n",
    "        'txt':'asdfasfasdf'},\n",
    "     6:{'date':'2019-2-20',\n",
    "        'txt':'asdfasdfasdf'},\n",
    "     7:{'date':'2019-3-20',\n",
    "        'txt':'asdfasfasdf'},\n",
    "     8:{'date':'2019-3-20',\n",
    "        'txt':'asdfasdfasdf'},\n",
    "     9:{'date':'2019-3-20',\n",
    "        'txt':'asdfasfasdf'},\n",
    "    10:{'date':'2019-4-1',\n",
    "        'txt':'asdfasdfasdf'}}\n",
    "\n",
    "df = pd.DataFrame(m).T\n",
    "from pprint import pprint\n",
    "\n",
    "\n",
    "df['date'] = pd.to_datetime(df['date'])\n",
    "df.set_index('date', inplace=True)\n",
    "pprint(df)\n",
    "\n",
    "grouped = df.groupby(pd.Grouper(freq='W', level='date')).txt.count()\n",
    "fig = grouped.plot()\n",
    "df"
   ]
  }
 ],
 "metadata": {
  "kernelspec": {
   "display_name": "Python 3.7.3 64-bit ('base': conda)",
   "language": "python",
   "name": "python37364bitbaseconda6e1aafb8a1db4a3f9294087bb2e4fc70"
  },
  "language_info": {
   "codemirror_mode": {
    "name": "ipython",
    "version": 3
   },
   "file_extension": ".py",
   "mimetype": "text/x-python",
   "name": "python",
   "nbconvert_exporter": "python",
   "pygments_lexer": "ipython3",
   "version": "3.7.3"
  }
 },
 "nbformat": 4,
 "nbformat_minor": 4
}
